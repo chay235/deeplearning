{
 "cells": [
  {
   "cell_type": "code",
   "execution_count": 1,
   "id": "1fe3c988-f0dc-41fc-b5a1-6b2ee7ca90c8",
   "metadata": {
    "tags": []
   },
   "outputs": [
    {
     "name": "stderr",
     "output_type": "stream",
     "text": [
      "2023-10-03 19:43:19.299720: I tensorflow/core/platform/cpu_feature_guard.cc:193] This TensorFlow binary is optimized with oneAPI Deep Neural Network Library (oneDNN) to use the following CPU instructions in performance-critical operations:  AVX2 AVX512F AVX512_VNNI FMA\n",
      "To enable them in other operations, rebuild TensorFlow with the appropriate compiler flags.\n",
      "2023-10-03 19:43:19.409865: I tensorflow/core/util/port.cc:104] oneDNN custom operations are on. You may see slightly different numerical results due to floating-point round-off errors from different computation orders. To turn them off, set the environment variable `TF_ENABLE_ONEDNN_OPTS=0`.\n",
      "2023-10-03 19:43:19.903557: W tensorflow/compiler/xla/stream_executor/platform/default/dso_loader.cc:64] Could not load dynamic library 'libnvinfer.so.7'; dlerror: libnvinfer.so.7: cannot open shared object file: No such file or directory; LD_LIBRARY_PATH: /usr/local/nvidia/lib:/usr/local/nvidia/lib64\n",
      "2023-10-03 19:43:19.903606: W tensorflow/compiler/xla/stream_executor/platform/default/dso_loader.cc:64] Could not load dynamic library 'libnvinfer_plugin.so.7'; dlerror: libnvinfer_plugin.so.7: cannot open shared object file: No such file or directory; LD_LIBRARY_PATH: /usr/local/nvidia/lib:/usr/local/nvidia/lib64\n",
      "2023-10-03 19:43:19.903612: W tensorflow/compiler/tf2tensorrt/utils/py_utils.cc:38] TF-TRT Warning: Cannot dlopen some TensorRT libraries. If you would like to use Nvidia GPU with TensorRT, please make sure the missing libraries mentioned above are installed properly.\n"
     ]
    }
   ],
   "source": [
    "import tensorflow as tf\n",
    "from zipfile import ZipFile\n",
    "import os,glob\n",
    "os.environ['TF_CPP_MIN_LOG_LEVEL'] = '2'\n",
    "import cv2\n",
    "from tqdm.notebook import tqdm_notebook as tqdm\n",
    "import numpy as np\n",
    "from sklearn import preprocessing\n",
    "from sklearn.model_selection import train_test_split\n",
    "from keras.models import Sequential\n",
    "from keras.layers import Convolution2D, Dropout, Dense,MaxPooling2D\n",
    "from keras.layers import BatchNormalization\n",
    "from keras.layers import MaxPooling2D\n",
    "from keras.layers import Flatten\n",
    "\n",
    "import keras\n",
    "from keras.preprocessing import image\n",
    "from keras.utils import load_img,img_to_array\n",
    "import matplotlib.pyplot as plt\n",
    "\n",
    "from keras.applications import vgg16\n",
    "from tensorflow import keras\n",
    "\n",
    "\n",
    "\n",
    "from keras.models import Sequential\n",
    "from keras.layers import Dense, Dropout, Activation, Flatten, GlobalAveragePooling2D\n",
    "from keras.layers import Conv2D, MaxPooling2D, ZeroPadding2D\n",
    "\n",
    "from keras.models import Model\n"
   ]
  },
  {
   "cell_type": "code",
   "execution_count": 2,
   "id": "fce9b999-4235-4bfc-911f-26aa4b6f2155",
   "metadata": {
    "tags": []
   },
   "outputs": [],
   "source": [
    "def notumor():\n",
    "    for i in tqdm(os.listdir()):\n",
    "      img = cv2.imread(i)\n",
    "      img = cv2.resize(img,(224,224))\n",
    "      X.append(img)\n",
    "      y.append('0')\n",
    "def glioma():\n",
    "    for i in tqdm(os.listdir()):\n",
    "      img = cv2.imread(i)\n",
    "      img = cv2.resize(img,(224,224))\n",
    "      X.append(img)\n",
    "      y.append('1')\n",
    "def meningioma():\n",
    "    for i in tqdm(os.listdir()):\n",
    "      img = cv2.imread(i)\n",
    "      img = cv2.resize(img,(224,224))\n",
    "      X.append(img)\n",
    "      y.append('2')\n",
    "def pituitary():\n",
    "    for i in tqdm(os.listdir()):\n",
    "      img = cv2.imread(i)\n",
    "      img = cv2.resize(img,(224,224))\n",
    "      X.append(img)\n",
    "      y.append('3')\n",
    "X = []\n",
    "y = []\n"
   ]
  },
  {
   "cell_type": "code",
   "execution_count": 3,
   "id": "69aca959-9bf8-4edd-8b94-66341ce98622",
   "metadata": {
    "tags": []
   },
   "outputs": [
    {
     "data": {
      "application/vnd.jupyter.widget-view+json": {
       "model_id": "cb3150605bed42cba894e4c074250e93",
       "version_major": 2,
       "version_minor": 0
      },
      "text/plain": [
       "  0%|          | 0/1319 [00:00<?, ?it/s]"
      ]
     },
     "metadata": {},
     "output_type": "display_data"
    },
    {
     "data": {
      "application/vnd.jupyter.widget-view+json": {
       "model_id": "da8c69eae29248b4b86901b56909bcbe",
       "version_major": 2,
       "version_minor": 0
      },
      "text/plain": [
       "  0%|          | 0/1337 [00:00<?, ?it/s]"
      ]
     },
     "metadata": {},
     "output_type": "display_data"
    },
    {
     "data": {
      "application/vnd.jupyter.widget-view+json": {
       "model_id": "f9b030bc4afd49048908fed57a0ccd8f",
       "version_major": 2,
       "version_minor": 0
      },
      "text/plain": [
       "  0%|          | 0/1457 [00:00<?, ?it/s]"
      ]
     },
     "metadata": {},
     "output_type": "display_data"
    },
    {
     "data": {
      "application/vnd.jupyter.widget-view+json": {
       "model_id": "772c27643af04b25b82738d9f6556c34",
       "version_major": 2,
       "version_minor": 0
      },
      "text/plain": [
       "  0%|          | 0/1595 [00:00<?, ?it/s]"
      ]
     },
     "metadata": {},
     "output_type": "display_data"
    },
    {
     "data": {
      "application/vnd.jupyter.widget-view+json": {
       "model_id": "489597dc2fd64ad6a207b86842c37724",
       "version_major": 2,
       "version_minor": 0
      },
      "text/plain": [
       "  0%|          | 0/299 [00:00<?, ?it/s]"
      ]
     },
     "metadata": {},
     "output_type": "display_data"
    },
    {
     "data": {
      "application/vnd.jupyter.widget-view+json": {
       "model_id": "99324e7f36bd470e824174648432043f",
       "version_major": 2,
       "version_minor": 0
      },
      "text/plain": [
       "  0%|          | 0/305 [00:00<?, ?it/s]"
      ]
     },
     "metadata": {},
     "output_type": "display_data"
    },
    {
     "data": {
      "application/vnd.jupyter.widget-view+json": {
       "model_id": "b325edc0338440e79c3e5911d6005cfe",
       "version_major": 2,
       "version_minor": 0
      },
      "text/plain": [
       "  0%|          | 0/300 [00:00<?, ?it/s]"
      ]
     },
     "metadata": {},
     "output_type": "display_data"
    },
    {
     "data": {
      "application/vnd.jupyter.widget-view+json": {
       "model_id": "21a8be70a4cf443ca309904fa343de23",
       "version_major": 2,
       "version_minor": 0
      },
      "text/plain": [
       "  0%|          | 0/405 [00:00<?, ?it/s]"
      ]
     },
     "metadata": {},
     "output_type": "display_data"
    }
   ],
   "source": [
    "\n",
    "os.chdir('/home/jovyan/Training/glioma')\n",
    "glioma()\n",
    "os.chdir('/home/jovyan/Training/meningioma')\n",
    "meningioma()\n",
    "os.chdir('/home/jovyan/Training/pituitary')\n",
    "pituitary()\n",
    "os.chdir('/home/jovyan/Training/notumor')\n",
    "notumor()\n",
    "\n",
    "os.chdir('/home/jovyan/Testing/glioma')\n",
    "glioma()\n",
    "os.chdir('/home/jovyan/Testing/meningioma')\n",
    "meningioma()\n",
    "os.chdir('/home/jovyan/Testing/pituitary')\n",
    "pituitary()\n",
    "os.chdir('/home/jovyan/Testing/notumor')\n",
    "notumor()"
   ]
  },
  {
   "cell_type": "code",
   "execution_count": 4,
   "id": "06f30234-c044-4f3c-b0eb-08f94d8f9c04",
   "metadata": {
    "tags": []
   },
   "outputs": [
    {
     "name": "stdout",
     "output_type": "stream",
     "text": [
      "[[[0 0 0]\n",
      "  [0 0 0]\n",
      "  [0 0 0]\n",
      "  ...\n",
      "  [0 0 0]\n",
      "  [0 0 0]\n",
      "  [0 0 0]]\n",
      "\n",
      " [[0 0 0]\n",
      "  [0 0 0]\n",
      "  [0 0 0]\n",
      "  ...\n",
      "  [0 0 0]\n",
      "  [0 0 0]\n",
      "  [0 0 0]]\n",
      "\n",
      " [[0 0 0]\n",
      "  [0 0 0]\n",
      "  [0 0 0]\n",
      "  ...\n",
      "  [0 0 0]\n",
      "  [0 0 0]\n",
      "  [0 0 0]]\n",
      "\n",
      " ...\n",
      "\n",
      " [[0 0 0]\n",
      "  [0 0 0]\n",
      "  [0 0 0]\n",
      "  ...\n",
      "  [0 0 0]\n",
      "  [0 0 0]\n",
      "  [0 0 0]]\n",
      "\n",
      " [[0 0 0]\n",
      "  [0 0 0]\n",
      "  [0 0 0]\n",
      "  ...\n",
      "  [0 0 0]\n",
      "  [0 0 0]\n",
      "  [0 0 0]]\n",
      "\n",
      " [[0 0 0]\n",
      "  [0 0 0]\n",
      "  [0 0 0]\n",
      "  ...\n",
      "  [0 0 0]\n",
      "  [0 0 0]\n",
      "  [0 0 0]]]\n",
      "0\n"
     ]
    }
   ],
   "source": [
    "print(X[-1])\n",
    "print(y[-1])"
   ]
  },
  {
   "cell_type": "code",
   "execution_count": 5,
   "id": "708a363b-b1cb-4957-8127-f196eddc59ae",
   "metadata": {},
   "outputs": [
    {
     "name": "stdout",
     "output_type": "stream",
     "text": [
      "Shape of an image in X_train:  (224, 224, 3)\n",
      "Shape of an image in X_test:  (224, 224, 3)\n",
      "X_train Shape:  (5262, 224, 224, 3)\n",
      "X_test Shape:  (1755, 224, 224, 3)\n",
      "y_train Shape:  (5262, 4)\n",
      "y_test Shape:  (1755, 4)\n"
     ]
    }
   ],
   "source": [
    "X_train, X_test, y_train, y_test = train_test_split(X, y, test_size=0.25, random_state=70)\n",
    "print (\"Shape of an image in X_train: \", X_train[0].shape)\n",
    "print (\"Shape of an image in X_test: \", X_test[0].shape)\n",
    "le = preprocessing.LabelEncoder()\n",
    "y_train = le.fit_transform(y_train)\n",
    "y_test = le.fit_transform(y_test)\n",
    "y_train = tf.keras.utils.to_categorical(y_train, num_classes=4)\n",
    "y_test = tf.keras.utils.to_categorical(y_test, num_classes=4)\n",
    "y_train = np.array(y_train)\n",
    "X_train = np.array(X_train)\n",
    "y_test = np.array(y_test)\n",
    "X_test = np.array(X_test)\n",
    "print(\"X_train Shape: \", X_train.shape)\n",
    "print(\"X_test Shape: \", X_test.shape)\n",
    "print(\"y_train Shape: \", y_train.shape)\n",
    "print(\"y_test Shape: \", y_test.shape)"
   ]
  },
  {
   "cell_type": "code",
   "execution_count": 6,
   "id": "1c1d32cc-19cf-4e7a-b3d4-713a5ad1c79a",
   "metadata": {
    "tags": []
   },
   "outputs": [
    {
     "name": "stderr",
     "output_type": "stream",
     "text": [
      "2023-10-03 19:43:31.197514: E tensorflow/compiler/xla/stream_executor/cuda/cuda_driver.cc:267] failed call to cuInit: CUDA_ERROR_NO_DEVICE: no CUDA-capable device is detected\n"
     ]
    },
    {
     "name": "stdout",
     "output_type": "stream",
     "text": [
      "0 InputLayer False\n",
      "1 Conv2D False\n",
      "2 Conv2D False\n",
      "3 MaxPooling2D False\n",
      "4 Conv2D False\n",
      "5 Conv2D False\n",
      "6 MaxPooling2D False\n",
      "7 Conv2D False\n",
      "8 Conv2D False\n",
      "9 Conv2D False\n",
      "10 MaxPooling2D False\n",
      "11 Conv2D False\n",
      "12 Conv2D False\n",
      "13 Conv2D False\n",
      "14 MaxPooling2D False\n",
      "15 Conv2D False\n",
      "16 Conv2D False\n",
      "17 Conv2D False\n",
      "18 MaxPooling2D False\n"
     ]
    }
   ],
   "source": [
    "\n",
    "img_rows, img_cols = 224, 224\n",
    "vgg = vgg16.VGG16(weights = 'imagenet',include_top = False,input_shape = (img_rows, img_cols, 3) )\n",
    "for layer in vgg.layers:\n",
    "    layer.trainable = False\n",
    "\n",
    "for (i,layer) in enumerate(vgg.layers):\n",
    "    print(str(i) + \" \"+ layer.__class__.__name__, layer.trainable)"
   ]
  },
  {
   "cell_type": "code",
   "execution_count": 7,
   "id": "3b1a2447-a088-493f-8c76-a1276528ce10",
   "metadata": {
    "tags": []
   },
   "outputs": [],
   "source": [
    "def lw(bottom_model, num_classes):\n",
    "    top_model = bottom_model.output\n",
    "    top_model = GlobalAveragePooling2D()(top_model)\n",
    "    top_model = Dense(1024,activation='relu')(top_model)\n",
    "    top_model = Dense(1024,activation='relu')(top_model)\n",
    "    top_model = Dense(512,activation='relu')(top_model)\n",
    "    top_model = Dense(num_classes,activation='softmax')(top_model)\n",
    "    return top_model"
   ]
  },
  {
   "cell_type": "code",
   "execution_count": null,
   "id": "dff1ed9b-2bbf-4ee3-be5f-7541f7469f1c",
   "metadata": {
    "tags": []
   },
   "outputs": [],
   "source": [
    "\n"
   ]
  },
  {
   "cell_type": "code",
   "execution_count": 8,
   "id": "67aa7abc-eacb-4764-9ffe-85e70032d511",
   "metadata": {
    "tags": []
   },
   "outputs": [
    {
     "name": "stdout",
     "output_type": "stream",
     "text": [
      "Model: \"model\"\n",
      "_________________________________________________________________\n",
      " Layer (type)                Output Shape              Param #   \n",
      "=================================================================\n",
      " input_1 (InputLayer)        [(None, 224, 224, 3)]     0         \n",
      "                                                                 \n",
      " block1_conv1 (Conv2D)       (None, 224, 224, 64)      1792      \n",
      "                                                                 \n",
      " block1_conv2 (Conv2D)       (None, 224, 224, 64)      36928     \n",
      "                                                                 \n",
      " block1_pool (MaxPooling2D)  (None, 112, 112, 64)      0         \n",
      "                                                                 \n",
      " block2_conv1 (Conv2D)       (None, 112, 112, 128)     73856     \n",
      "                                                                 \n",
      " block2_conv2 (Conv2D)       (None, 112, 112, 128)     147584    \n",
      "                                                                 \n",
      " block2_pool (MaxPooling2D)  (None, 56, 56, 128)       0         \n",
      "                                                                 \n",
      " block3_conv1 (Conv2D)       (None, 56, 56, 256)       295168    \n",
      "                                                                 \n",
      " block3_conv2 (Conv2D)       (None, 56, 56, 256)       590080    \n",
      "                                                                 \n",
      " block3_conv3 (Conv2D)       (None, 56, 56, 256)       590080    \n",
      "                                                                 \n",
      " block3_pool (MaxPooling2D)  (None, 28, 28, 256)       0         \n",
      "                                                                 \n",
      " block4_conv1 (Conv2D)       (None, 28, 28, 512)       1180160   \n",
      "                                                                 \n",
      " block4_conv2 (Conv2D)       (None, 28, 28, 512)       2359808   \n",
      "                                                                 \n",
      " block4_conv3 (Conv2D)       (None, 28, 28, 512)       2359808   \n",
      "                                                                 \n",
      " block4_pool (MaxPooling2D)  (None, 14, 14, 512)       0         \n",
      "                                                                 \n",
      " block5_conv1 (Conv2D)       (None, 14, 14, 512)       2359808   \n",
      "                                                                 \n",
      " block5_conv2 (Conv2D)       (None, 14, 14, 512)       2359808   \n",
      "                                                                 \n",
      " block5_conv3 (Conv2D)       (None, 14, 14, 512)       2359808   \n",
      "                                                                 \n",
      " block5_pool (MaxPooling2D)  (None, 7, 7, 512)         0         \n",
      "                                                                 \n",
      " global_average_pooling2d (G  (None, 512)              0         \n",
      " lobalAveragePooling2D)                                          \n",
      "                                                                 \n",
      " dense (Dense)               (None, 1024)              525312    \n",
      "                                                                 \n",
      " dense_1 (Dense)             (None, 1024)              1049600   \n",
      "                                                                 \n",
      " dense_2 (Dense)             (None, 512)               524800    \n",
      "                                                                 \n",
      " dense_3 (Dense)             (None, 4)                 2052      \n",
      "                                                                 \n",
      "=================================================================\n",
      "Total params: 16,816,452\n",
      "Trainable params: 2,101,764\n",
      "Non-trainable params: 14,714,688\n",
      "_________________________________________________________________\n",
      "None\n"
     ]
    }
   ],
   "source": [
    "num_classes = 4\n",
    "FC_Head = lw(vgg, num_classes)\n",
    "model = Model(inputs = vgg.input, outputs = FC_Head)\n",
    "print(model.summary())"
   ]
  },
  {
   "cell_type": "code",
   "execution_count": 9,
   "id": "12ed5c07-85b7-4804-832f-89ea2a601def",
   "metadata": {
    "tags": []
   },
   "outputs": [
    {
     "name": "stdout",
     "output_type": "stream",
     "text": [
      "165/165 [==============================] - 841s 5s/step - loss: 0.5402 - accuracy: 0.8366 - val_loss: 0.2217 - val_accuracy: 0.9168\n"
     ]
    }
   ],
   "source": [
    "\n",
    "model.compile(optimizer='adam', loss = 'categorical_crossentropy',metrics = ['accuracy'])\n",
    "history = model.fit(X_train,y_train,\n",
    "                    epochs=1,\n",
    "                    validation_data=(X_test,y_test))"
   ]
  },
  {
   "cell_type": "code",
   "execution_count": 10,
   "id": "7a33ed22-8ace-4843-af3d-3fe748569284",
   "metadata": {
    "tags": []
   },
   "outputs": [
    {
     "name": "stdout",
     "output_type": "stream",
     "text": [
      "1/1 [==============================] - 0s 341ms/step\n",
      "[[1.65395159e-03 3.93282593e-04 1.07110925e-02 9.87241626e-01]]\n",
      "3\n",
      "The prediction on MRI IMAGE is PITUITARY TUMOR\n"
     ]
    },
    {
     "data": {
      "image/png": "[encoded data removed]",
      "text/plain": [
       "<Figure size 1000x1000 with 1 Axes>"
      ]
     },
     "metadata": {},
     "output_type": "display_data"
    }
   ],
   "source": [
    "img = load_img('/home/jovyan/Testimage/Tr-pi_0019.jpg', target_size=(224,224))\n",
    "plt.figure(figsize=(10, 10))\n",
    "plt.subplot(1,3,1)\n",
    "plt.imshow(img, cmap=\"gray\")\n",
    "plt.axis('off')\n",
    "plt.show\n",
    "i = img_to_array(img)\n",
    "input_arr = np.array([i])\n",
    "predict_x=model.predict(input_arr)\n",
    "class_x=np.argmax(predict_x)\n",
    "print(predict_x)\n",
    "print(class_x)\n",
    "if(class_x == 1):\n",
    "    print(\"The prediction on MRI IMAGE is GLIOMA TUMOR\")\n",
    "elif(class_x == 2):\n",
    "    print(\"The prediction on MRI IMAGE is MENINGIOMA TUMOR\")\n",
    "elif(class_x == 3):\n",
    "    print(\"The prediction on MRI IMAGE is PITUITARY TUMOR\")\n",
    "else:\n",
    "    print(\"The MRI Image is Of HEALTHY BRAIN\")"
   ]
  },
  {
   "cell_type": "code",
   "execution_count": null,
   "id": "71004553-6658-4465-a325-8fac3d03263d",
   "metadata": {},
   "outputs": [],
   "source": []
  }
 ],
 "metadata": {
  "kernelspec": {
   "display_name": "Python 3 (ipykernel)",
   "language": "python",
   "name": "python3"
  },
  "language_info": {
   "codemirror_mode": {
    "name": "ipython",
    "version": 3
   },
   "file_extension": ".py",
   "mimetype": "text/x-python",
   "name": "python",
   "nbconvert_exporter": "python",
   "pygments_lexer": "ipython3",
   "version": "3.10.10"
  }
 },
 "nbformat": 4,
 "nbformat_minor": 5
}
